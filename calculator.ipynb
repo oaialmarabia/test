{
  "nbformat": 4,
  "nbformat_minor": 0,
  "metadata": {
    "colab": {
      "provenance": []
    },
    "kernelspec": {
      "name": "python3",
      "display_name": "Python 3"
    },
    "language_info": {
      "name": "python"
    }
  },
  "cells": [
    {
      "cell_type": "code",
      "execution_count": null,
      "metadata": {
        "id": "tZ18zhd5wyKb"
      },
      "outputs": [],
      "source": [
        "def sum(x,y):\n",
        "  return x+y\n",
        "\n",
        "def sub(x,y):\n",
        "  return x-y\n",
        "\n",
        "def mul(x,y):\n",
        "  return x*y\n",
        "\n",
        "def dev(x,y):\n",
        "  if  y == 0:\n",
        "    return \"error\"\n",
        "  else:\n",
        "    return x/y\n",
        "\n",
        "\n",
        "\n",
        "\n",
        "def calculator():\n",
        "  x=int(input(\"enter first number:\"))\n",
        "  y=int(input(\"enter second number:\"))\n",
        "  operator=input(\"choise one [+,-,*,/]\")\n",
        "\n",
        "  if operator == \"+\":\n",
        "    print( sum(x,y))\n",
        "  if operator == \"-\":\n",
        "    print (sub(x,y))\n",
        "  if operator == \"*\":\n",
        "    print( mul(x,y))\n",
        "  if operator == \"/\":\n",
        "    print( dev(x,y))\n",
        "\n",
        "\n",
        "ch=1\n",
        "\n",
        "while ch == 1:\n",
        "  calculator()\n",
        "  ch=int(input(\"do you want continue? if yes input 1 if no input 0:\"))\n",
        "\n",
        "print(\"\\nThanks to use my calculator. :)\")"
      ]
    }
  ]
}